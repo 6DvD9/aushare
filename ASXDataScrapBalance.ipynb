{
 "cells": [
  {
   "cell_type": "code",
   "execution_count": null,
   "metadata": {},
   "outputs": [],
   "source": [
    "#!/usr/bin/env python\n",
    "# coding=utf-8\n",
    "import urllib.request\n",
    "import time\n",
    "import pandas as pd\n",
    "from bs4 import BeautifulSoup\n",
    "import aushare.stock.fundamental as td\n",
    "import aushare.stock.cons as ct\n",
    "import os\n",
    "\n",
    "\n",
    "\n",
    "def getBalanceSheet(code):\n",
    "    file_name = str(code)+'_balance.csv'\n",
    "    if os.path.isfile('data/'+file_name):\n",
    "        print(\"file exist!\")\n",
    "        return\n",
    "    try:\n",
    "        urlbase = ct.BALANCE_SHEET_ANNUAL_REPORT\n",
    "        url = urlbase%(code,code)\n",
    "        print(url)\n",
    "        response = urllib.request.urlopen(url).read().decode('utf-8')\n",
    "        soup = BeautifulSoup(response, \"lxml\")\n",
    "        tb = soup.find(\"table\")\n",
    "        df1 = pd.read_html(str(tb),header=0,index_col=0)\n",
    "        df =df1[0].T\n",
    "    except:\n",
    "        print('No balance sheet  found for the code %s'%code)\n",
    "        df =None\n",
    "        return None\n",
    "        \n",
    "    print(df)\n",
    "    if df is not None:\n",
    "        df.to_csv('data/'+file_name)\n",
    "\n",
    "\n",
    "codelist = td.getAllASXListCode().values\n",
    "time3 = time.time()\n",
    "for code in codelist:\n",
    "    getBalanceSheet(code)\n",
    "time4 = time.time()\n",
    "print (\"time spent：\",str(time4-time3))"
   ]
  },
  {
   "cell_type": "code",
   "execution_count": null,
   "metadata": {},
   "outputs": [],
   "source": []
  }
 ],
 "metadata": {
  "kernelspec": {
   "display_name": "Python 3",
   "language": "python",
   "name": "python3"
  },
  "language_info": {
   "codemirror_mode": {
    "name": "ipython",
    "version": 3
   },
   "file_extension": ".py",
   "mimetype": "text/x-python",
   "name": "python",
   "nbconvert_exporter": "python",
   "pygments_lexer": "ipython3",
   "version": "3.6.5"
  }
 },
 "nbformat": 4,
 "nbformat_minor": 2
}
