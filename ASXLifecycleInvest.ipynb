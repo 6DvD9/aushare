{
 "cells": [
  {
   "cell_type": "code",
   "execution_count": 3,
   "metadata": {
    "scrolled": true
   },
   "outputs": [
    {
     "name": "stdout",
     "output_type": "stream",
     "text": [
      "https://finance.yahoo.com/quote/T3D.AX/financials?p=T3D.AX\n",
      "        date  difference\n",
      "0  6/30/2017   -0.122866\n",
      "1  6/30/2016    1.862610\n",
      "2  6/30/2015         NaN\n",
      "        date  difference\n",
      "1  6/30/2016     1.86261\n",
      "1\n",
      "staryear= 2016\n",
      "https://au.finance.yahoo.com/quote/T3D.AX/history?period1=1451566800&period2=1483102800&interval=1wk&filter=history&frequency=1wk\n",
      "0.015716981132075473\n",
      "https://au.finance.yahoo.com/quote/T3D.AX/history?period1=1483189200&period2=1514638800&interval=1wk&filter=history&frequency=1wk\n",
      "0.008826923076923078\n",
      "-43.90156062424969\n",
      "                  GICS industry group  Company name\n",
      "5  Commercial & Professional Services  333D LIMITED\n",
      "{'Asx Code': 'T3D', 'Finacial Year': '6/30/2016', 'Revenue Increase %': 186.0, 'pricediff': -43.90156062424969, 'Company Name': '333D LIMITED', 'industry': 'Commercial & Professional Services'}\n",
      "https://finance.yahoo.com/quote/TGP.AX/financials?p=TGP.AX\n",
      "        date  difference\n",
      "0  6/30/2017   -0.468565\n",
      "1  6/30/2016    0.361601\n",
      "2  6/30/2015    0.086465\n",
      "3  6/30/2014         NaN\n",
      "Empty DataFrame\n",
      "Columns: [date, difference]\n",
      "Index: []\n"
     ]
    }
   ],
   "source": [
    "import aushare.stock.fundamental as td\n",
    "from datetime import datetime\n",
    "import pandas as pd\n",
    "\n",
    "CRITERIA_THRELD_VALUE = 0.5\n",
    "outstand = []\n",
    "#asxcodelist = td.getAllASXListCode().unique()\n",
    "\n",
    "asxcodelist =['IRE','APT','Z1P','APX','MOQ','1PG','ONT','14D']\n",
    "#asxcodelist = ['T3D','TGP']\n",
    "for asxcode in asxcodelist:\n",
    "    df4 = td.getRevenueDiff(asxcode)\n",
    "    if isinstance(df4,type(None)):\n",
    "        continue\n",
    "    #print (df4)\n",
    "    df41 = df4[df4['difference']>=CRITERIA_THRELD_VALUE]\n",
    "    print(df41)\n",
    "    if not df41.empty:\n",
    "            tmpdict = {'Asx Code':asxcode, 'Finacial Year':df41['date'].iloc[-1],'Revenue Increase %':round(df41['difference'].iloc[-1].astype(float),2)*100}\n",
    "            print (df41.shape[0])\n",
    "            \n",
    "            startyear = datetime.strptime(df41['date'].iloc[-1], '%m/%d/%Y').year\n",
    "            print('staryear=',startyear)\n",
    "            \n",
    "            yearafter = startyear+1\n",
    "            \n",
    "            pricediff = 0 if datetime.now().year==startyear else td.getMeanPriceDiffPercentage(asxcode,startyear, yearafter)\n",
    "            \n",
    "            print(pricediff)\n",
    "            if pricediff is None:\n",
    "                print(\"no price difference can be found for code %s\"%asxcode)\n",
    "                continue\n",
    "            tmpdict.update({'pricediff':pricediff})\n",
    "            df_basicinfo= td.getCompanyBasicInfo(asxcode)\n",
    "    \n",
    "            tmpdict.update({'Company Name':df_basicinfo['Company name'].values[0], 'industry':df_basicinfo['GICS industry group'].values[0]})\n",
    "            \n",
    "            print(tmpdict)\n",
    "            outstand.append(tmpdict)\n",
    "\n",
    "outstandshares = pd.DataFrame(outstand)\n",
    "outstandshares.to_csv('shares_likely_jump_1.csv')\n",
    "            \n",
    "    "
   ]
  },
  {
   "cell_type": "code",
   "execution_count": null,
   "metadata": {},
   "outputs": [],
   "source": [
    "# draw with matplotlib to show the meanings of data\n",
    "import matplotlib.pyplot as plt\n",
    "import pandas as pd\n",
    "import csv\n",
    "\n",
    "dataFile = './shares_likely_jump.csv'\n",
    "df =pd.read_csv(dataFile,header=0,index_col=0).set_index('Asx Code')\n",
    "df.columns\n",
    "\n",
    "df.groupby('industry').agg({'Company Name':'count'}).rename(columns={'Company Name':'Company Count'})\n",
    "\n",
    "\n"
   ]
  },
  {
   "cell_type": "code",
   "execution_count": null,
   "metadata": {},
   "outputs": [],
   "source": []
  }
 ],
 "metadata": {
  "kernelspec": {
   "display_name": "Python 3",
   "language": "python",
   "name": "python3"
  },
  "language_info": {
   "codemirror_mode": {
    "name": "ipython",
    "version": 3
   },
   "file_extension": ".py",
   "mimetype": "text/x-python",
   "name": "python",
   "nbconvert_exporter": "python",
   "pygments_lexer": "ipython3",
   "version": "3.6.5"
  }
 },
 "nbformat": 4,
 "nbformat_minor": 2
}
