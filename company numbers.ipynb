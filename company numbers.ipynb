{
 "cells": [
  {
   "cell_type": "code",
   "execution_count": 5,
   "metadata": {},
   "outputs": [
    {
     "name": "stdout",
     "output_type": "stream",
     "text": [
      "507\n"
     ]
    }
   ],
   "source": [
    "import pandas as pd\n",
    "\n",
    "\n",
    "#dataFile = './ASXListedCompanies.csv'\n",
    "#dataFile = './shares_likely_jump.csv'\n",
    "#dataFile = './shares_likely_jump_debt_asset_filter.csv'\n",
    "dataFile = './shares_likely_jump_cashburn_filter.csv'\n",
    "\n",
    "#df1 =pd.read_csv(dataFile,header=1,index_col=0)\n",
    "df1 =pd.read_csv(dataFile,header=0,index_col=0)\n",
    "\n",
    "print(df1.shape[0])\n"
   ]
  },
  {
   "cell_type": "code",
   "execution_count": null,
   "metadata": {},
   "outputs": [],
   "source": []
  }
 ],
 "metadata": {
  "kernelspec": {
   "display_name": "Python 3",
   "language": "python",
   "name": "python3"
  },
  "language_info": {
   "codemirror_mode": {
    "name": "ipython",
    "version": 3
   },
   "file_extension": ".py",
   "mimetype": "text/x-python",
   "name": "python",
   "nbconvert_exporter": "python",
   "pygments_lexer": "ipython3",
   "version": "3.6.5"
  }
 },
 "nbformat": 4,
 "nbformat_minor": 2
}
